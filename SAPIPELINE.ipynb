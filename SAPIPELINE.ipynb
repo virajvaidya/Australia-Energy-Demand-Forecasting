{
  "nbformat": 4,
  "nbformat_minor": 0,
  "metadata": {
    "colab": {
      "name": "SAPIPELINE.ipynb",
      "provenance": [],
      "authorship_tag": "ABX9TyM6Ggc9Rn9CK4OWcySDTkkX",
      "include_colab_link": true
    },
    "kernelspec": {
      "name": "python3",
      "display_name": "Python 3"
    },
    "language_info": {
      "name": "python"
    }
  },
  "cells": [
    {
      "cell_type": "markdown",
      "metadata": {
        "id": "view-in-github",
        "colab_type": "text"
      },
      "source": [
        "<a href=\"https://colab.research.google.com/github/virajvaidya/Australia-Energy-Demand-Forecasting/blob/main/SAPIPELINE.ipynb\" target=\"_parent\"><img src=\"https://colab.research.google.com/assets/colab-badge.svg\" alt=\"Open In Colab\"/></a>"
      ]
    },
    {
      "cell_type": "code",
      "execution_count": null,
      "metadata": {
        "id": "jf8hzZgqrQuA"
      },
      "outputs": [],
      "source": [
        "!pip install pandas==1.3.5"
      ]
    },
    {
      "cell_type": "code",
      "source": [
        "!pip install plotly==5.4.0\n",
        "!pip install chart_studio"
      ],
      "metadata": {
        "id": "MuGFiLKErnAs"
      },
      "execution_count": null,
      "outputs": []
    },
    {
      "cell_type": "code",
      "source": [
        "!pip install statsmodels==0.13.1"
      ],
      "metadata": {
        "id": "Q_tCaj7KrqFU"
      },
      "execution_count": null,
      "outputs": []
    },
    {
      "cell_type": "code",
      "source": [
        "!pip install pmdarima"
      ],
      "metadata": {
        "id": "WT4Mmu4mryaO"
      },
      "execution_count": null,
      "outputs": []
    },
    {
      "cell_type": "code",
      "source": [
        "import pandas               as pd\n",
        "import numpy                as np\n",
        "import pmdarima             as pm\n",
        "import seaborn              as sns\n",
        "import plotly.graph_objs    as go\n",
        "\n",
        "from pmdarima           import pipeline\n",
        "from pmdarima           import model_selection\n",
        "from pmdarima           import preprocessing as ppc\n",
        "from pmdarima           import arima\n",
        "from matplotlib         import pyplot as plt\n",
        "from plotly.offline     import iplot\n",
        "from plotly.subplots    import make_subplots"
      ],
      "metadata": {
        "id": "Gqe1KdvHr3up"
      },
      "execution_count": 5,
      "outputs": []
    },
    {
      "cell_type": "code",
      "source": [
        "sns.set_style('whitegrid')\n",
        "pd.plotting.register_matplotlib_converters()\n",
        "# Default figure size\n",
        "sns.mpl.rc('figure',figsize=(16, 6))"
      ],
      "metadata": {
        "id": "mHUXM56nsJ0v"
      },
      "execution_count": 6,
      "outputs": []
    },
    {
      "cell_type": "code",
      "source": [
        "from google.colab import files\n",
        "import io\n",
        "uploaded = files.upload()"
      ],
      "metadata": {
        "colab": {
          "resources": {
            "http://localhost:8080/nbextensions/google.colab/files.js": {
              "data": "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",
              "ok": true,
              "headers": [
                [
                  "content-type",
                  "application/javascript"
                ]
              ],
              "status": 200,
              "status_text": ""
            }
          },
          "base_uri": "https://localhost:8080/",
          "height": 73
        },
        "id": "_KAxXIyosM82",
        "outputId": "1b0bd6fa-0ca2-4ff9-b7a1-30117a032cc5"
      },
      "execution_count": 7,
      "outputs": [
        {
          "output_type": "display_data",
          "data": {
            "text/html": [
              "\n",
              "     <input type=\"file\" id=\"files-4740ca17-0537-4aff-b456-a37779e3b155\" name=\"files[]\" multiple disabled\n",
              "        style=\"border:none\" />\n",
              "     <output id=\"result-4740ca17-0537-4aff-b456-a37779e3b155\">\n",
              "      Upload widget is only available when the cell has been executed in the\n",
              "      current browser session. Please rerun this cell to enable.\n",
              "      </output>\n",
              "      <script src=\"/nbextensions/google.colab/files.js\"></script> "
            ],
            "text/plain": [
              "<IPython.core.display.HTML object>"
            ]
          },
          "metadata": {}
        },
        {
          "output_type": "stream",
          "name": "stdout",
          "text": [
            "Saving SA.csv to SA.csv\n"
          ]
        }
      ]
    },
    {
      "cell_type": "code",
      "source": [
        "df = pd.read_csv('SA.csv')"
      ],
      "metadata": {
        "id": "UzBpyooOsc5u"
      },
      "execution_count": 8,
      "outputs": []
    },
    {
      "cell_type": "code",
      "source": [
        "df= df[['DATE','TOTALDEMANDSA','RRPSA']]"
      ],
      "metadata": {
        "id": "PhBZ8sVmsg36"
      },
      "execution_count": 9,
      "outputs": []
    },
    {
      "cell_type": "code",
      "source": [
        "df['DATE'] = df['DATE'].apply(lambda x: pd.Timestamp(x).strftime('%d/%m/%Y %H%M'))"
      ],
      "metadata": {
        "id": "f7jJcgqiso4z"
      },
      "execution_count": 10,
      "outputs": []
    },
    {
      "cell_type": "code",
      "source": [
        "df['DATE'] = df['DATE'].astype('datetime64[ns]')"
      ],
      "metadata": {
        "id": "xaID0x1Bss6l"
      },
      "execution_count": 11,
      "outputs": []
    },
    {
      "cell_type": "code",
      "source": [
        "df.info()"
      ],
      "metadata": {
        "colab": {
          "base_uri": "https://localhost:8080/"
        },
        "id": "1bmYH779su5B",
        "outputId": "ebe3bf6f-c10f-4cec-bf70-6d980e1df11e"
      },
      "execution_count": 12,
      "outputs": [
        {
          "output_type": "stream",
          "name": "stdout",
          "text": [
            "<class 'pandas.core.frame.DataFrame'>\n",
            "RangeIndex: 70942 entries, 0 to 70941\n",
            "Data columns (total 3 columns):\n",
            " #   Column         Non-Null Count  Dtype         \n",
            "---  ------         --------------  -----         \n",
            " 0   DATE           70942 non-null  datetime64[ns]\n",
            " 1   TOTALDEMANDSA  70942 non-null  float64       \n",
            " 2   RRPSA          70942 non-null  object        \n",
            "dtypes: datetime64[ns](1), float64(1), object(1)\n",
            "memory usage: 1.6+ MB\n"
          ]
        }
      ]
    },
    {
      "cell_type": "code",
      "source": [
        "data = df['TOTALDEMANDSA']\n",
        "train, test = model_selection.train_test_split(data, train_size=40000)"
      ],
      "metadata": {
        "id": "Ditw7-C7syg7"
      },
      "execution_count": 14,
      "outputs": []
    },
    {
      "cell_type": "code",
      "source": [
        "pipe = pipeline.Pipeline([\n",
        "    (\"fourier\", ppc.FourierFeaturizer(m=12, k=4)),\n",
        "    (\"arima\", arima.AutoARIMA(stepwise=True, trace=1, error_action=\"ignore\",\n",
        "                              information_criterion='bic',\n",
        "                              seasonal=False,  # because we use Fourier\n",
        "                              suppress_warnings=True))\n",
        "])"
      ],
      "metadata": {
        "id": "wVxDL5bgs21L"
      },
      "execution_count": 15,
      "outputs": []
    },
    {
      "cell_type": "code",
      "source": [
        "pipe.fit(train)\n",
        "print(\"Model fit:\")\n",
        "print(pipe)"
      ],
      "metadata": {
        "colab": {
          "base_uri": "https://localhost:8080/"
        },
        "id": "IuXP8EC4s5ns",
        "outputId": "d5b14930-ffa2-4eeb-aeb7-3290a90e7d42"
      },
      "execution_count": 16,
      "outputs": [
        {
          "output_type": "stream",
          "name": "stdout",
          "text": [
            "Performing stepwise search to minimize bic\n",
            " ARIMA(2,1,2)(0,0,0)[0] intercept   : BIC=426552.417, Time=122.44 sec\n",
            " ARIMA(0,1,0)(0,0,0)[0] intercept   : BIC=448296.799, Time=3.91 sec\n",
            " ARIMA(1,1,0)(0,0,0)[0] intercept   : BIC=430547.804, Time=3.73 sec\n",
            " ARIMA(0,1,1)(0,0,0)[0] intercept   : BIC=437281.276, Time=25.19 sec\n",
            " ARIMA(0,1,0)(0,0,0)[0]             : BIC=448286.203, Time=31.00 sec\n",
            " ARIMA(1,1,2)(0,0,0)[0] intercept   : BIC=429391.995, Time=23.38 sec\n",
            " ARIMA(2,1,1)(0,0,0)[0] intercept   : BIC=429414.889, Time=23.55 sec\n",
            " ARIMA(3,1,2)(0,0,0)[0] intercept   : BIC=426878.035, Time=161.80 sec\n",
            " ARIMA(2,1,3)(0,0,0)[0] intercept   : BIC=inf, Time=148.64 sec\n",
            " ARIMA(1,1,1)(0,0,0)[0] intercept   : BIC=429600.269, Time=17.67 sec\n",
            " ARIMA(1,1,3)(0,0,0)[0] intercept   : BIC=429400.015, Time=33.74 sec\n",
            " ARIMA(3,1,1)(0,0,0)[0] intercept   : BIC=426817.932, Time=125.17 sec\n",
            " ARIMA(3,1,3)(0,0,0)[0] intercept   : BIC=inf, Time=163.57 sec\n",
            " ARIMA(2,1,2)(0,0,0)[0]             : BIC=426541.821, Time=85.61 sec\n",
            " ARIMA(1,1,2)(0,0,0)[0]             : BIC=429381.398, Time=21.44 sec\n",
            " ARIMA(2,1,1)(0,0,0)[0]             : BIC=429404.292, Time=21.45 sec\n",
            " ARIMA(3,1,2)(0,0,0)[0]             : BIC=426698.531, Time=146.28 sec\n",
            " ARIMA(2,1,3)(0,0,0)[0]             : BIC=inf, Time=135.39 sec\n",
            " ARIMA(1,1,1)(0,0,0)[0]             : BIC=429589.672, Time=16.29 sec\n",
            " ARIMA(1,1,3)(0,0,0)[0]             : BIC=429389.418, Time=30.68 sec\n",
            " ARIMA(3,1,1)(0,0,0)[0]             : BIC=426807.338, Time=109.32 sec\n",
            " ARIMA(3,1,3)(0,0,0)[0]             : BIC=inf, Time=162.94 sec\n",
            "\n",
            "Best model:  ARIMA(2,1,2)(0,0,0)[0]          \n",
            "Total fit time: 1613.284 seconds\n",
            "Model fit:\n",
            "Pipeline(steps=[('fourier', FourierFeaturizer(k=4, m=12)),\n",
            "                ('arima',\n",
            "                 AutoARIMA(error_action='ignore', information_criterion='bic',\n",
            "                           seasonal=False, trace=1))])\n"
          ]
        }
      ]
    },
    {
      "cell_type": "code",
      "source": [
        "preds, conf_int = pipe.predict(n_periods=100, return_conf_int=True)\n",
        "print(\"\\nForecasts:\")\n",
        "print(preds)"
      ],
      "metadata": {
        "colab": {
          "base_uri": "https://localhost:8080/"
        },
        "id": "nVIh4oSus8pL",
        "outputId": "593941b2-b0e9-4940-e883-efbf52f2e9a5"
      },
      "execution_count": 17,
      "outputs": [
        {
          "output_type": "stream",
          "name": "stdout",
          "text": [
            "\n",
            "Forecasts:\n",
            "[1144.94824231 1129.46431228 1111.98072087 1099.97503019 1093.65670394\n",
            " 1104.71713047 1140.84700133 1173.0194233  1176.7790825  1162.97822147\n",
            " 1142.91440499 1119.94089253 1098.27246277 1075.29607116 1053.63175507\n",
            " 1040.4047344  1035.41023868 1049.88957726 1091.07088874 1129.47249539\n",
            " 1140.20884656 1133.73964201 1121.01721262 1105.10315733 1089.97731681\n",
            " 1072.84885217 1056.21525141 1047.13062956 1045.36533261 1062.17577115\n",
            " 1104.83830522 1143.94552925 1154.70522863 1147.68281401 1133.94258242\n",
            " 1116.65896557 1099.92090373 1081.03919712 1062.60266659 1051.74444496\n",
            " 1048.30038931 1063.57843997 1104.89263521 1142.86008414 1152.70103144\n",
            " 1144.98266245 1130.76195609 1113.19865749 1096.36137875 1077.53663638\n",
            " 1059.28659512 1048.71677352 1045.63570404 1061.32533018 1103.07582231\n",
            " 1141.48317357 1151.74968872 1144.42798108 1130.56386712 1113.30926135\n",
            " 1096.72806088 1078.10488316 1060.00245001 1049.5288774  1046.49692064\n",
            " 1062.19395415 1103.91636513 1142.26679325 1152.45430948 1145.038106\n",
            " 1131.07015219 1113.70792703 1097.02017055 1078.29554392 1060.09998378\n",
            " 1049.5439846  1046.44188715 1062.08192314 1103.76067007 1142.08039997\n",
            " 1152.24937971 1144.82564004 1130.8597255  1113.50753823 1096.83617052\n",
            " 1078.13264199 1059.96132309 1049.43125758 1046.355497   1062.02117449\n",
            " 1103.7239546  1142.06540136 1152.25329441 1144.84536181 1130.89200531\n",
            " 1113.54913877 1096.88399105 1078.18381923 1060.0133122  1049.48187792]\n"
          ]
        }
      ]
    }
  ]
}
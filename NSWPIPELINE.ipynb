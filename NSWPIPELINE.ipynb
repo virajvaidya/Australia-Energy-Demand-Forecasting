{
  "cells": [
    {
      "cell_type": "markdown",
      "metadata": {
        "id": "view-in-github",
        "colab_type": "text"
      },
      "source": [
        "<a href=\"https://colab.research.google.com/github/virajvaidya/Australia-Energy-Demand-Forecasting/blob/main/NSWPIPELINE.ipynb\" target=\"_parent\"><img src=\"https://colab.research.google.com/assets/colab-badge.svg\" alt=\"Open In Colab\"/></a>"
      ]
    },
    {
      "cell_type": "code",
      "execution_count": null,
      "metadata": {
        "id": "dEYMxyK58z12"
      },
      "outputs": [],
      "source": [
        "!pip install pandas==1.3.5"
      ]
    },
    {
      "cell_type": "code",
      "execution_count": null,
      "metadata": {
        "id": "k8eKW2Hj86Yf"
      },
      "outputs": [],
      "source": [
        "!pip install plotly==5.4.0\n",
        "!pip install chart_studio"
      ]
    },
    {
      "cell_type": "code",
      "execution_count": null,
      "metadata": {
        "id": "22CDQLM287wI"
      },
      "outputs": [],
      "source": [
        "!pip install statsmodels==0.13.1"
      ]
    },
    {
      "cell_type": "code",
      "execution_count": null,
      "metadata": {
        "id": "AOJ4CXQy89R9"
      },
      "outputs": [],
      "source": [
        "!pip install pmdarima"
      ]
    },
    {
      "cell_type": "code",
      "execution_count": 5,
      "metadata": {
        "id": "4kq9RVjn8-rf"
      },
      "outputs": [],
      "source": [
        "import pandas       as pd\n",
        "import numpy        as np\n",
        "import pmdarima     as pm\n",
        "from pmdarima       import pipeline\n",
        "from pmdarima       import model_selection\n",
        "from pmdarima       import preprocessing as ppc\n",
        "from pmdarima       import arima\n",
        "from matplotlib     import pyplot as plt\n",
        "import seaborn      as sns"
      ]
    },
    {
      "cell_type": "code",
      "execution_count": 6,
      "metadata": {
        "id": "AAk5b8xJ-w_M"
      },
      "outputs": [],
      "source": [
        "import plotly.graph_objs    as go\n",
        "from plotly.offline                       import iplot\n",
        "from plotly.subplots                      import make_subplots"
      ]
    },
    {
      "cell_type": "code",
      "execution_count": 7,
      "metadata": {
        "id": "GwSh5fK79AfU"
      },
      "outputs": [],
      "source": [
        "sns.set_style('whitegrid')\n",
        "pd.plotting.register_matplotlib_converters()\n",
        "# Default figure size\n",
        "sns.mpl.rc('figure',figsize=(16, 6))"
      ]
    },
    {
      "cell_type": "code",
      "execution_count": 8,
      "metadata": {
        "colab": {
          "base_uri": "https://localhost:8080/",
          "height": 73,
          "resources": {
            "http://localhost:8080/nbextensions/google.colab/files.js": {
              "data": "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",
              "headers": [
                [
                  "content-type",
                  "application/javascript"
                ]
              ],
              "ok": true,
              "status": 200,
              "status_text": ""
            }
          }
        },
        "id": "xcHWzCtD9CZ4",
        "outputId": "3b1dae84-776d-4ee2-9675-50e499c6a611"
      },
      "outputs": [
        {
          "output_type": "display_data",
          "data": {
            "text/html": [
              "\n",
              "     <input type=\"file\" id=\"files-1cbbfb91-c3bd-4970-8877-0d531bab2a75\" name=\"files[]\" multiple disabled\n",
              "        style=\"border:none\" />\n",
              "     <output id=\"result-1cbbfb91-c3bd-4970-8877-0d531bab2a75\">\n",
              "      Upload widget is only available when the cell has been executed in the\n",
              "      current browser session. Please rerun this cell to enable.\n",
              "      </output>\n",
              "      <script src=\"/nbextensions/google.colab/files.js\"></script> "
            ],
            "text/plain": [
              "<IPython.core.display.HTML object>"
            ]
          },
          "metadata": {}
        },
        {
          "output_type": "stream",
          "name": "stdout",
          "text": [
            "Saving NSW.csv to NSW.csv\n"
          ]
        }
      ],
      "source": [
        "from google.colab import files\n",
        "import io\n",
        "uploaded = files.upload()"
      ]
    },
    {
      "cell_type": "code",
      "execution_count": 9,
      "metadata": {
        "id": "uZmKuZTQ9rv9"
      },
      "outputs": [],
      "source": [
        "df = pd.read_csv('NSW.csv')"
      ]
    },
    {
      "cell_type": "code",
      "execution_count": 10,
      "metadata": {
        "id": "0rJ53lur9xqZ"
      },
      "outputs": [],
      "source": [
        "df= df[['DATE','TOTALDEMANDNSW','RRPNSW']]"
      ]
    },
    {
      "cell_type": "code",
      "execution_count": 11,
      "metadata": {
        "id": "CkZtUduD9343"
      },
      "outputs": [],
      "source": [
        "df['DATE'] = df['DATE'].apply(lambda x: pd.Timestamp(x).strftime('%d/%m/%Y %H%M'))"
      ]
    },
    {
      "cell_type": "code",
      "execution_count": 12,
      "metadata": {
        "id": "IXtUeW6z-dHg"
      },
      "outputs": [],
      "source": [
        "df['DATE'] = df['DATE'].astype('datetime64[ns]')"
      ]
    },
    {
      "cell_type": "code",
      "execution_count": 13,
      "metadata": {
        "colab": {
          "base_uri": "https://localhost:8080/"
        },
        "id": "utrEFkHa_tft",
        "outputId": "e5aba3e6-8437-4c52-c444-210edb0b369d"
      },
      "outputs": [
        {
          "output_type": "stream",
          "name": "stdout",
          "text": [
            "<class 'pandas.core.frame.DataFrame'>\n",
            "RangeIndex: 70942 entries, 0 to 70941\n",
            "Data columns (total 3 columns):\n",
            " #   Column          Non-Null Count  Dtype         \n",
            "---  ------          --------------  -----         \n",
            " 0   DATE            70942 non-null  datetime64[ns]\n",
            " 1   TOTALDEMANDNSW  70942 non-null  float64       \n",
            " 2   RRPNSW          70942 non-null  object        \n",
            "dtypes: datetime64[ns](1), float64(1), object(1)\n",
            "memory usage: 1.6+ MB\n"
          ]
        }
      ],
      "source": [
        "df.info()"
      ]
    },
    {
      "cell_type": "code",
      "execution_count": 15,
      "metadata": {
        "id": "pc81cKeY_s2h"
      },
      "outputs": [],
      "source": [
        "data = df['TOTALDEMANDNSW']\n",
        "train, test = model_selection.train_test_split(data, train_size=40000)"
      ]
    },
    {
      "cell_type": "code",
      "execution_count": 16,
      "metadata": {
        "id": "w9R7w_pA_0lX"
      },
      "outputs": [],
      "source": [
        "pipe = pipeline.Pipeline([\n",
        "    (\"fourier\", ppc.FourierFeaturizer(m=12, k=4)),\n",
        "    (\"arima\", arima.AutoARIMA(stepwise=True, trace=1, error_action=\"ignore\",\n",
        "                              information_criterion='bic',\n",
        "                              seasonal=False,  # because we use Fourier\n",
        "                              suppress_warnings=True))\n",
        "])"
      ]
    },
    {
      "cell_type": "code",
      "execution_count": 17,
      "metadata": {
        "colab": {
          "base_uri": "https://localhost:8080/"
        },
        "id": "828LhugU_5YC",
        "outputId": "65446980-0bf4-4be2-f639-ca553d0184ba"
      },
      "outputs": [
        {
          "output_type": "stream",
          "name": "stdout",
          "text": [
            "Performing stepwise search to minimize bic\n",
            " ARIMA(2,1,2)(0,0,0)[0] intercept   : BIC=486626.239, Time=99.28 sec\n",
            " ARIMA(0,1,0)(0,0,0)[0] intercept   : BIC=540991.806, Time=3.44 sec\n",
            " ARIMA(1,1,0)(0,0,0)[0] intercept   : BIC=491458.080, Time=8.46 sec\n",
            " ARIMA(0,1,1)(0,0,0)[0] intercept   : BIC=514499.991, Time=32.07 sec\n",
            " ARIMA(0,1,0)(0,0,0)[0]             : BIC=540981.538, Time=28.09 sec\n",
            " ARIMA(1,1,2)(0,0,0)[0] intercept   : BIC=489251.932, Time=52.27 sec\n",
            " ARIMA(2,1,1)(0,0,0)[0] intercept   : BIC=491411.569, Time=61.01 sec\n",
            " ARIMA(3,1,2)(0,0,0)[0] intercept   : BIC=486262.890, Time=103.51 sec\n",
            " ARIMA(3,1,1)(0,0,0)[0] intercept   : BIC=486563.104, Time=87.86 sec\n",
            " ARIMA(4,1,2)(0,0,0)[0] intercept   : BIC=486584.098, Time=150.41 sec\n",
            " ARIMA(3,1,3)(0,0,0)[0] intercept   : BIC=485665.566, Time=162.25 sec\n",
            " ARIMA(2,1,3)(0,0,0)[0] intercept   : BIC=485655.612, Time=100.02 sec\n",
            " ARIMA(1,1,3)(0,0,0)[0] intercept   : BIC=489025.101, Time=62.25 sec\n",
            " ARIMA(2,1,4)(0,0,0)[0] intercept   : BIC=485665.504, Time=122.37 sec\n",
            " ARIMA(1,1,4)(0,0,0)[0] intercept   : BIC=488955.961, Time=81.09 sec\n",
            " ARIMA(3,1,4)(0,0,0)[0] intercept   : BIC=485536.549, Time=186.13 sec\n",
            " ARIMA(4,1,4)(0,0,0)[0] intercept   : BIC=485866.380, Time=196.09 sec\n",
            " ARIMA(3,1,5)(0,0,0)[0] intercept   : BIC=485506.400, Time=183.34 sec\n",
            " ARIMA(2,1,5)(0,0,0)[0] intercept   : BIC=485673.318, Time=183.52 sec\n",
            " ARIMA(4,1,5)(0,0,0)[0] intercept   : BIC=484931.273, Time=229.78 sec\n",
            " ARIMA(5,1,5)(0,0,0)[0] intercept   : BIC=485506.163, Time=214.39 sec\n",
            " ARIMA(5,1,4)(0,0,0)[0] intercept   : BIC=485422.884, Time=243.92 sec\n",
            " ARIMA(4,1,5)(0,0,0)[0]             : BIC=inf, Time=220.20 sec\n",
            "\n",
            "Best model:  ARIMA(4,1,5)(0,0,0)[0] intercept\n",
            "Total fit time: 2811.863 seconds\n",
            "Model fit:\n",
            "Pipeline(steps=[('fourier', FourierFeaturizer(k=4, m=12)),\n",
            "                ('arima',\n",
            "                 AutoARIMA(error_action='ignore', information_criterion='bic',\n",
            "                           seasonal=False, trace=1))])\n"
          ]
        }
      ],
      "source": [
        "pipe.fit(train)\n",
        "print(\"Model fit:\")\n",
        "print(pipe)"
      ]
    },
    {
      "cell_type": "code",
      "execution_count": 18,
      "metadata": {
        "id": "IE9CESwVEc9q",
        "colab": {
          "base_uri": "https://localhost:8080/"
        },
        "outputId": "55e35a20-7abd-4045-bfa2-428f0154ffc7"
      },
      "outputs": [
        {
          "output_type": "stream",
          "name": "stdout",
          "text": [
            "\n",
            "Forecasts:\n",
            "[6940.73256638 6640.4846873  6391.1577404  6230.05717799 6131.93936183\n",
            " 6091.70742525 6125.39659436 6171.34192515 6231.69247537 6262.16975178\n",
            " 6305.0067797  6338.75219304 6385.80935608 6456.00761752 6544.49396028\n",
            " 6679.40900513 6809.18271819 6964.73633549 7110.94724017 7242.95988239\n",
            " 7315.85019892 7329.64500445 7311.16967751 7247.43094911 7187.046497\n",
            " 7111.46944203 7070.27183117 7046.94472867 7043.61935295 7059.37893667\n",
            " 7084.19418913 7114.46593506 7090.50232024 7046.61179794 6966.09090735\n",
            " 6883.46769304 6801.42739092 6734.70919853 6710.69877833 6712.89669619\n",
            " 6756.17904284 6806.57262937 6892.26679639 6962.46397538 6997.37119402\n",
            " 6996.3491125  6960.40211112 6920.03353961 6863.27199749 6832.38015829\n",
            " 6816.67322976 6841.57837828 6882.81791527 6938.21274052 7018.17746212\n",
            " 7075.87420022 7104.79648152 7079.38574665 7036.70769968 6969.04692\n",
            " 6902.27286097 6849.80180393 6819.22883812 6833.01649248 6856.08892424\n",
            " 6910.25986202 6973.3983384  7035.14118793 7054.11034679 7032.47385952\n",
            " 6990.11519951 6922.69328029 6865.75026745 6810.50651054 6794.54614152\n",
            " 6805.97934361 6842.07992085 6898.0675737  6967.81832576 7036.96552869\n",
            " 7055.08125606 7044.3712766  6996.54809563 6939.03965993 6876.80393263\n",
            " 6825.98701216 6808.74102133 6817.24344462 6856.83162553 6904.33287778\n",
            " 6979.82995319 7039.41066984 7061.45502372 7044.78158845 6995.99763916\n",
            " 6938.51282371 6870.24933903 6824.39074746 6798.90094358 6813.62941211]\n"
          ]
        }
      ],
      "source": [
        "preds, conf_int = pipe.predict(n_periods=100, return_conf_int=True)\n",
        "print(\"\\nForecasts:\")\n",
        "print(preds)"
      ]
    }
  ],
  "metadata": {
    "colab": {
      "name": "NSWPIPELINE.ipynb",
      "provenance": [],
      "authorship_tag": "ABX9TyOW5x1YfcyCljx8ItVOy1ls",
      "include_colab_link": true
    },
    "kernelspec": {
      "display_name": "Python 3",
      "name": "python3"
    },
    "language_info": {
      "name": "python"
    }
  },
  "nbformat": 4,
  "nbformat_minor": 0
}